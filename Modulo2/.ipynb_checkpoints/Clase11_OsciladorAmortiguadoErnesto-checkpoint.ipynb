{
 "cells": [
  {
   "cell_type": "markdown",
   "metadata": {},
   "source": [
    "$$m\\ddot{x} + kx + B\\dot{x} = 0$$"
   ]
  },
  {
   "cell_type": "markdown",
   "metadata": {},
   "source": [
    "Requerimos la solucion de\n",
    "$$\\dot{x} = y$$\n",
    "$$\\dot{y} = -\\frac{k}{m}x - \\frac{B}{m}y$$"
   ]
  },
  {
   "cell_type": "code",
   "execution_count": 2,
   "metadata": {
    "collapsed": false
   },
   "outputs": [],
   "source": [
    "import matplotlib.pyplot as plt\n",
    "% matplotlib inline\n",
    "import numpy as np"
   ]
  },
  {
   "cell_type": "code",
   "execution_count": 3,
   "metadata": {
    "collapsed": true
   },
   "outputs": [],
   "source": [
    "from scipy.integrate import odeint"
   ]
  },
  {
   "cell_type": "code",
   "execution_count": 4,
   "metadata": {
    "collapsed": true
   },
   "outputs": [],
   "source": [
    "def armonico(y,t,k,m,B):\n",
    "    x = y[0]\n",
    "    y = y[1]\n",
    "    return [y, -k*x/m - B/m*y]"
   ]
  },
  {
   "cell_type": "markdown",
   "metadata": {},
   "source": [
    "### Condiciones iniciales"
   ]
  },
  {
   "cell_type": "code",
   "execution_count": 5,
   "metadata": {
    "collapsed": true
   },
   "outputs": [],
   "source": [
    "y0 = [.6,.4]\n",
    "k = 3.0\n",
    "m = 1.0\n",
    "B = .5"
   ]
  },
  {
   "cell_type": "code",
   "execution_count": 6,
   "metadata": {
    "collapsed": true
   },
   "outputs": [],
   "source": [
    "tiempo = np.linspace(0, 50, 500)"
   ]
  },
  {
   "cell_type": "code",
   "execution_count": 7,
   "metadata": {
    "collapsed": true
   },
   "outputs": [],
   "source": [
    "solucion = odeint(armonico, y0, tiempo, args=(k,m,B))"
   ]
  },
  {
   "cell_type": "code",
   "execution_count": 8,
   "metadata": {
    "collapsed": false
   },
   "outputs": [
    {
     "data": {
      "text/plain": [
       "(500, 2)"
      ]
     },
     "execution_count": 8,
     "metadata": {},
     "output_type": "execute_result"
    }
   ],
   "source": [
    "solucion.shape"
   ]
  },
  {
   "cell_type": "code",
   "execution_count": 9,
   "metadata": {
    "collapsed": true
   },
   "outputs": [],
   "source": [
    "posicion = solucion[:,0]\n",
    "velocidad = solucion[:,1]"
   ]
  },
  {
   "cell_type": "code",
   "execution_count": 10,
   "metadata": {
    "collapsed": false
   },
   "outputs": [
    {
     "data": {
      "image/png": "[encoded data removed]",
      "text/plain": [
       "<matplotlib.figure.Figure at 0x22763548400>"
      ]
     },
     "metadata": {},
     "output_type": "display_data"
    }
   ],
   "source": [
    "plt.plot(tiempo, posicion, c = \"r\", lw = 1, label = \"Posicion\")\n",
    "plt.plot(tiempo, velocidad, c = \"k\", lw = 1, label = \"Velocidad\")\n",
    "plt.legend()\n",
    "plt.xlabel(\"tiempo\")\n",
    "plt.show()"
   ]
  },
  {
   "cell_type": "markdown",
   "metadata": {},
   "source": [
    "# ESPACIO FASE (POSICION, VELOCIDAD)"
   ]
  },
  {
   "cell_type": "code",
   "execution_count": 20,
   "metadata": {
    "collapsed": true
   },
   "outputs": [],
   "source": [
    "omega0 = np.sqrt(k/m)"
   ]
  },
  {
   "cell_type": "code",
   "execution_count": 21,
   "metadata": {
    "collapsed": false
   },
   "outputs": [
    {
     "data": {
      "image/png": "[encoded data removed]",
      "text/plain": [
       "<matplotlib.figure.Figure at 0x2276627a2e8>"
      ]
     },
     "metadata": {},
     "output_type": "display_data"
    }
   ],
   "source": [
    "plt.figure(figsize = (5,5))\n",
    "plt.scatter(posicion, velocidad/omega0, lw = 0, s = 3, cmap = \"viridis\", c = posicion)\n",
    "plt.xlabel(\"Posicion\")\n",
    "plt.ylabel(\"Velocidad/omega0\");"
   ]
  },
  {
   "cell_type": "code",
   "execution_count": 22,
   "metadata": {
    "collapsed": true
   },
   "outputs": [],
   "source": [
    "from ipywidgets import *"
   ]
  },
  {
   "cell_type": "code",
   "execution_count": 23,
   "metadata": {
    "collapsed": true
   },
   "outputs": [],
   "source": [
    "def amortiguado(t = 0):\n",
    "    fig = plt.figure()\n",
    "    ax = fig.add_subplot(1,1,1)\n",
    "    ax.plot(tiempo, posicion, \"k-\")\n",
    "    ax.plot(tiempo[t], posicion[t], \"ro\")\n",
    "    ax.text(4,.6, \"tiempo =    %s\" % tiempo[t])\n",
    "    ax.text(4,.5, \"posicion =  %s\" % posicion[t])\n",
    "    fig.canvas.draw()"
   ]
  },
  {
   "cell_type": "code",
   "execution_count": 24,
   "metadata": {
    "collapsed": true
   },
   "outputs": [],
   "source": [
    "t_f = len(tiempo) - 1"
   ]
  },
  {
   "cell_type": "code",
   "execution_count": 25,
   "metadata": {
    "collapsed": false
   },
   "outputs": [
    {
     "data": {
      "image/png": "[encoded data removed]",
      "text/plain": [
       "<matplotlib.figure.Figure at 0x227664f1588>"
      ]
     },
     "metadata": {},
     "output_type": "display_data"
    }
   ],
   "source": [
    "interact(amortiguado, t = (0, t_f, 1));"
   ]
  },
  {
   "cell_type": "markdown",
   "metadata": {},
   "source": [
    "$\\omega_0^2 = k/m$, $\\Gamma = \\frac{B}{2m}$"
   ]
  },
  {
   "cell_type": "markdown",
   "metadata": {},
   "source": [
    "1. Subamortiguado, $\\omega_0^2 > \\Gamma^2$.\n",
    "2. Sobreamortiguado, $\\omega_0^2 < \\Gamma^2$.\n",
    "3. Amortiguamiento crítico, $\\omega_0^2 = \\Gamma^2$."
   ]
  },
  {
   "cell_type": "markdown",
   "metadata": {},
   "source": [
    "## Subamortiguado"
   ]
  },
  {
   "cell_type": "code",
   "execution_count": null,
   "metadata": {
    "collapsed": true
   },
   "outputs": [],
   "source": [
    "y0 = [.6,.4]\n",
    "k = 3.0\n",
    "m = 1.0\n",
    "B = .5\n",
    "tiempo = np.linspace(0, 50, 500)\n",
    "solucion = odeint(armonico, y0, tiempo, args=(k,m,B))\n",
    "posicion = solucion[:,0]\n",
    "velocidad = solucion[:,1]\n",
    "plt.plot(tiempo, posicion, c = \"r\", lw = 1, label = \"Posicion\")\n",
    "plt.plot(tiempo, velocidad, c = \"k\", lw = 1, label = \"Velocidad\")\n",
    "plt.legend()\n",
    "plt.xlabel(\"tiempo\")\n",
    "plt.show()"
   ]
  },
  {
   "cell_type": "markdown",
   "metadata": {},
   "source": [
    "## Sobreamortiguado"
   ]
  },
  {
   "cell_type": "code",
   "execution_count": null,
   "metadata": {
    "collapsed": true
   },
   "outputs": [],
   "source": [
    "y0 = [.6,.4]\n",
    "k = 3.0\n",
    "m = 1.0\n",
    "B = .5\n",
    "tiempo = np.linspace(0, 50, 500)\n",
    "solucion = odeint(armonico, y0, tiempo, args=(k,m,B))\n",
    "posicion = solucion[:,0]\n",
    "velocidad = solucion[:,1]\n",
    "plt.plot(tiempo, posicion, c = \"r\", lw = 1, label = \"Posicion\")\n",
    "plt.plot(tiempo, velocidad, c = \"k\", lw = 1, label = \"Velocidad\")\n",
    "plt.legend()\n",
    "plt.xlabel(\"tiempo\")\n",
    "plt.show()"
   ]
  },
  {
   "cell_type": "markdown",
   "metadata": {},
   "source": [
    "## Amortiguamiento crítico"
   ]
  },
  {
   "cell_type": "code",
   "execution_count": null,
   "metadata": {
    "collapsed": true
   },
   "outputs": [],
   "source": [
    "y0 = [.6,.4]\n",
    "k = 3.0\n",
    "m = 1.0\n",
    "B = .5\n",
    "tiempo = np.linspace(0, 50, 500)\n",
    "solucion = odeint(armonico, y0, tiempo, args=(k,m,B))\n",
    "posicion = solucion[:,0]\n",
    "velocidad = solucion[:,1]\n",
    "plt.plot(tiempo, posicion, c = \"r\", lw = 1, label = \"Posicion\")\n",
    "plt.plot(tiempo, velocidad, c = \"k\", lw = 1, label = \"Velocidad\")\n",
    "plt.legend()\n",
    "plt.xlabel(\"tiempo\")\n",
    "plt.show()t"
   ]
  },
  {
   "cell_type": "code",
   "execution_count": null,
   "metadata": {
    "collapsed": true
   },
   "outputs": [],
   "source": []
  },
  {
   "cell_type": "code",
   "execution_count": null,
   "metadata": {
    "collapsed": true
   },
   "outputs": [],
   "source": [
    "plt.figure "
   ]
  }
 ],
 "metadata": {
  "kernelspec": {
   "display_name": "Python 3",
   "language": "python",
   "name": "python3"
  },
  "language_info": {
   "codemirror_mode": {
    "name": "ipython",
    "version": 3
   },
   "file_extension": ".py",
   "mimetype": "text/x-python",
   "name": "python",
   "nbconvert_exporter": "python",
   "pygments_lexer": "ipython3",
   "version": "3.6.0"
  },
  "widgets": {
   "state": {
    "065e2c3919834e45b7257e58cc63b8a9": {
     "views": [
      {
       "cell_index": 18
      }
     ]
    }
   },
   "version": "1.2.0"
  }
 },
 "nbformat": 4,
 "nbformat_minor": 2
}
